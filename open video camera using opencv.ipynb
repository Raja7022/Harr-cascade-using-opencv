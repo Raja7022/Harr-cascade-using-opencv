{
 "cells": [
  {
   "cell_type": "markdown",
   "metadata": {},
   "source": [
    "# Import opencv and numpy"
   ]
  },
  {
   "cell_type": "markdown",
   "metadata": {},
   "source": [
    "import numpy as np\n",
    "import cv2 "
   ]
  },
  {
   "cell_type": "markdown",
   "metadata": {},
   "source": [
    "# Code to open video camera"
   ]
  },
  {
   "cell_type": "code",
   "execution_count": null,
   "metadata": {},
   "outputs": [],
   "source": [
    "#specify video source\n",
    "cap=cv2.VideoCapture(0)\n",
    "\n",
    "while True:\n",
    "    \n",
    "    #capture FRAME by FRAME\n",
    "    ret,img=cap.read()\n",
    "    \n",
    "    # Displayy reslting frame\n",
    "    cv2.imshow(\"myy hamsa\",img)\n",
    "    if cv2.waitKey(30) & 0xff==ord('q'):\n",
    "        break\n",
    "        \n",
    "#when everything is done release video capture        \n",
    "cap.release()\n",
    "cv2.destroyyAllWindows()"
   ]
  },
  {
   "cell_type": "code",
   "execution_count": null,
   "metadata": {},
   "outputs": [],
   "source": []
  }
 ],
 "metadata": {
  "kernelspec": {
   "display_name": "Python 3",
   "language": "python",
   "name": "python3"
  },
  "language_info": {
   "codemirror_mode": {
    "name": "ipython",
    "version": 3
   },
   "file_extension": ".py",
   "mimetype": "text/x-python",
   "name": "python",
   "nbconvert_exporter": "python",
   "pygments_lexer": "ipython3",
   "version": "3.6.9"
  }
 },
 "nbformat": 4,
 "nbformat_minor": 2
}
